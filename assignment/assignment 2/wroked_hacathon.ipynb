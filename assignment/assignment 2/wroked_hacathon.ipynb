{
  "cells": [
    {
      "cell_type": "code",
      "execution_count": 3,
      "id": "a8cbd0db",
      "metadata": {
        "_cell_guid": "b1076dfc-b9ad-4769-8c92-a6c4dae69d19",
        "_uuid": "8f2839f25d086af736a60e9eeb907d3b93b6e0e5",
        "execution": {
          "iopub.execute_input": "2025-06-04T15:58:16.705478Z",
          "iopub.status.busy": "2025-06-04T15:58:16.705120Z",
          "iopub.status.idle": "2025-06-04T15:58:19.104523Z",
          "shell.execute_reply": "2025-06-04T15:58:19.103431Z"
        },
        "id": "a8cbd0db",
        "outputId": "6ba688cd-9cc8-47e4-e1f7-7b5fdbae5417",
        "papermill": {
          "duration": 2.406058,
          "end_time": "2025-06-04T15:58:19.106134",
          "exception": false,
          "start_time": "2025-06-04T15:58:16.700076",
          "status": "completed"
        },
        "tags": []
      },
      "outputs": [],
      "source": [
        "# This Python 3 environment comes with many helpful analytics libraries installed\n",
        "# It is defined by the kaggle/python Docker image: https://github.com/kaggle/docker-python\n",
        "# For example, here's several helpful packages to load\n",
        "\n",
        "import numpy as np # linear algebra\n",
        "import pandas as pd # data processing, CSV file I/O (e.g. pd.read_csv)\n",
        "\n",
        "# Input data files are available in the read-only \"../input/\" directory\n",
        "# For example, running this (by clicking run or pressing Shift+Enter) will list all files under the input directory\n",
        "\n",
        "import os\n",
        "for dirname, _, filenames in os.walk('/kaggle/input'):\n",
        "    for filename in filenames:\n",
        "        print(os.path.join(dirname, filename))\n",
        "\n",
        "# You can write up to 20GB to the current directory (/kaggle/working/) that gets preserved as output when you create a version using \"Save & Run All\"\n",
        "# You can also write temporary files to /kaggle/temp/, but they won't be saved outside of the current session"
      ]
    },
    {
      "cell_type": "code",
      "execution_count": 4,
      "id": "52fc0999",
      "metadata": {
        "execution": {
          "iopub.execute_input": "2025-06-04T15:58:19.114208Z",
          "iopub.status.busy": "2025-06-04T15:58:19.113809Z",
          "iopub.status.idle": "2025-06-04T15:58:19.269452Z",
          "shell.execute_reply": "2025-06-04T15:58:19.268010Z"
        },
        "id": "52fc0999",
        "outputId": "a27d2ada-424a-49c4-f6ee-cbaaffc87cbc",
        "papermill": {
          "duration": 0.161514,
          "end_time": "2025-06-04T15:58:19.271341",
          "exception": false,
          "start_time": "2025-06-04T15:58:19.109827",
          "status": "completed"
        },
        "tags": []
      },
      "outputs": [
        {
          "data": {
            "text/html": [
              "<div>\n",
              "<style scoped>\n",
              "    .dataframe tbody tr th:only-of-type {\n",
              "        vertical-align: middle;\n",
              "    }\n",
              "\n",
              "    .dataframe tbody tr th {\n",
              "        vertical-align: top;\n",
              "    }\n",
              "\n",
              "    .dataframe thead th {\n",
              "        text-align: right;\n",
              "    }\n",
              "</style>\n",
              "<table border=\"1\" class=\"dataframe\">\n",
              "  <thead>\n",
              "    <tr style=\"text-align: right;\">\n",
              "      <th></th>\n",
              "      <th>Unnamed: 0</th>\n",
              "      <th>ID</th>\n",
              "      <th>class</th>\n",
              "      <th>20150720_N</th>\n",
              "      <th>20150602_N</th>\n",
              "      <th>20150517_N</th>\n",
              "      <th>20150501_N</th>\n",
              "      <th>20150415_N</th>\n",
              "      <th>20150330_N</th>\n",
              "      <th>20150314_N</th>\n",
              "      <th>...</th>\n",
              "      <th>20140610_N</th>\n",
              "      <th>20140525_N</th>\n",
              "      <th>20140509_N</th>\n",
              "      <th>20140423_N</th>\n",
              "      <th>20140407_N</th>\n",
              "      <th>20140322_N</th>\n",
              "      <th>20140218_N</th>\n",
              "      <th>20140202_N</th>\n",
              "      <th>20140117_N</th>\n",
              "      <th>20140101_N</th>\n",
              "    </tr>\n",
              "  </thead>\n",
              "  <tbody>\n",
              "    <tr>\n",
              "      <th>0</th>\n",
              "      <td>0</td>\n",
              "      <td>1</td>\n",
              "      <td>water</td>\n",
              "      <td>637.5950</td>\n",
              "      <td>658.668</td>\n",
              "      <td>-1882.030</td>\n",
              "      <td>-1924.36</td>\n",
              "      <td>997.904</td>\n",
              "      <td>-1739.990</td>\n",
              "      <td>630.087</td>\n",
              "      <td>...</td>\n",
              "      <td>NaN</td>\n",
              "      <td>-1043.160</td>\n",
              "      <td>-1942.490</td>\n",
              "      <td>267.138</td>\n",
              "      <td>NaN</td>\n",
              "      <td>NaN</td>\n",
              "      <td>211.328</td>\n",
              "      <td>-2203.020</td>\n",
              "      <td>-1180.19</td>\n",
              "      <td>433.906</td>\n",
              "    </tr>\n",
              "    <tr>\n",
              "      <th>1</th>\n",
              "      <td>1</td>\n",
              "      <td>2</td>\n",
              "      <td>water</td>\n",
              "      <td>634.2400</td>\n",
              "      <td>593.705</td>\n",
              "      <td>-1625.790</td>\n",
              "      <td>-1672.32</td>\n",
              "      <td>914.198</td>\n",
              "      <td>-692.386</td>\n",
              "      <td>707.626</td>\n",
              "      <td>...</td>\n",
              "      <td>NaN</td>\n",
              "      <td>-933.934</td>\n",
              "      <td>-625.385</td>\n",
              "      <td>120.059</td>\n",
              "      <td>364.858</td>\n",
              "      <td>476.972</td>\n",
              "      <td>220.878</td>\n",
              "      <td>-2250.000</td>\n",
              "      <td>-1360.56</td>\n",
              "      <td>524.075</td>\n",
              "    </tr>\n",
              "    <tr>\n",
              "      <th>2</th>\n",
              "      <td>3</td>\n",
              "      <td>4</td>\n",
              "      <td>water</td>\n",
              "      <td>58.0174</td>\n",
              "      <td>-1599.160</td>\n",
              "      <td>NaN</td>\n",
              "      <td>-1052.63</td>\n",
              "      <td>NaN</td>\n",
              "      <td>-1564.630</td>\n",
              "      <td>NaN</td>\n",
              "      <td>...</td>\n",
              "      <td>-1025.880</td>\n",
              "      <td>368.622</td>\n",
              "      <td>NaN</td>\n",
              "      <td>-1227.800</td>\n",
              "      <td>304.621</td>\n",
              "      <td>NaN</td>\n",
              "      <td>369.214</td>\n",
              "      <td>-2202.120</td>\n",
              "      <td>NaN</td>\n",
              "      <td>-1343.550</td>\n",
              "    </tr>\n",
              "    <tr>\n",
              "      <th>3</th>\n",
              "      <td>4</td>\n",
              "      <td>5</td>\n",
              "      <td>water</td>\n",
              "      <td>72.5180</td>\n",
              "      <td>NaN</td>\n",
              "      <td>380.436</td>\n",
              "      <td>-1256.93</td>\n",
              "      <td>515.805</td>\n",
              "      <td>-1413.180</td>\n",
              "      <td>-802.942</td>\n",
              "      <td>...</td>\n",
              "      <td>-1813.950</td>\n",
              "      <td>155.624</td>\n",
              "      <td>NaN</td>\n",
              "      <td>-924.073</td>\n",
              "      <td>432.150</td>\n",
              "      <td>282.833</td>\n",
              "      <td>298.320</td>\n",
              "      <td>-2197.360</td>\n",
              "      <td>NaN</td>\n",
              "      <td>-826.727</td>\n",
              "    </tr>\n",
              "    <tr>\n",
              "      <th>4</th>\n",
              "      <td>7</td>\n",
              "      <td>8</td>\n",
              "      <td>water</td>\n",
              "      <td>1136.4400</td>\n",
              "      <td>NaN</td>\n",
              "      <td>NaN</td>\n",
              "      <td>1647.83</td>\n",
              "      <td>1935.800</td>\n",
              "      <td>NaN</td>\n",
              "      <td>2158.980</td>\n",
              "      <td>...</td>\n",
              "      <td>1535.000</td>\n",
              "      <td>1959.430</td>\n",
              "      <td>-279.317</td>\n",
              "      <td>-384.915</td>\n",
              "      <td>-113.406</td>\n",
              "      <td>1020.720</td>\n",
              "      <td>1660.650</td>\n",
              "      <td>-116.801</td>\n",
              "      <td>-568.05</td>\n",
              "      <td>-1357.140</td>\n",
              "    </tr>\n",
              "    <tr>\n",
              "      <th>...</th>\n",
              "      <td>...</td>\n",
              "      <td>...</td>\n",
              "      <td>...</td>\n",
              "      <td>...</td>\n",
              "      <td>...</td>\n",
              "      <td>...</td>\n",
              "      <td>...</td>\n",
              "      <td>...</td>\n",
              "      <td>...</td>\n",
              "      <td>...</td>\n",
              "      <td>...</td>\n",
              "      <td>...</td>\n",
              "      <td>...</td>\n",
              "      <td>...</td>\n",
              "      <td>...</td>\n",
              "      <td>...</td>\n",
              "      <td>...</td>\n",
              "      <td>...</td>\n",
              "      <td>...</td>\n",
              "      <td>...</td>\n",
              "      <td>...</td>\n",
              "    </tr>\n",
              "    <tr>\n",
              "      <th>7995</th>\n",
              "      <td>10537</td>\n",
              "      <td>10538</td>\n",
              "      <td>impervious</td>\n",
              "      <td>1207.7000</td>\n",
              "      <td>984.620</td>\n",
              "      <td>NaN</td>\n",
              "      <td>1166.25</td>\n",
              "      <td>937.478</td>\n",
              "      <td>1072.700</td>\n",
              "      <td>823.896</td>\n",
              "      <td>...</td>\n",
              "      <td>1117.740</td>\n",
              "      <td>1176.600</td>\n",
              "      <td>1044.110</td>\n",
              "      <td>NaN</td>\n",
              "      <td>369.082</td>\n",
              "      <td>465.843</td>\n",
              "      <td>362.882</td>\n",
              "      <td>979.795</td>\n",
              "      <td>NaN</td>\n",
              "      <td>433.659</td>\n",
              "    </tr>\n",
              "    <tr>\n",
              "      <th>7996</th>\n",
              "      <td>10538</td>\n",
              "      <td>10539</td>\n",
              "      <td>impervious</td>\n",
              "      <td>2170.3500</td>\n",
              "      <td>1419.720</td>\n",
              "      <td>1361.000</td>\n",
              "      <td>1478.71</td>\n",
              "      <td>983.911</td>\n",
              "      <td>1262.110</td>\n",
              "      <td>1422.860</td>\n",
              "      <td>...</td>\n",
              "      <td>984.634</td>\n",
              "      <td>2128.970</td>\n",
              "      <td>1379.660</td>\n",
              "      <td>NaN</td>\n",
              "      <td>762.633</td>\n",
              "      <td>485.204</td>\n",
              "      <td>446.724</td>\n",
              "      <td>771.747</td>\n",
              "      <td>1589.06</td>\n",
              "      <td>506.936</td>\n",
              "    </tr>\n",
              "    <tr>\n",
              "      <th>7997</th>\n",
              "      <td>10541</td>\n",
              "      <td>10542</td>\n",
              "      <td>impervious</td>\n",
              "      <td>1895.6800</td>\n",
              "      <td>1454.740</td>\n",
              "      <td>NaN</td>\n",
              "      <td>1033.56</td>\n",
              "      <td>1930.380</td>\n",
              "      <td>1057.150</td>\n",
              "      <td>1471.600</td>\n",
              "      <td>...</td>\n",
              "      <td>888.408</td>\n",
              "      <td>2093.020</td>\n",
              "      <td>1232.110</td>\n",
              "      <td>1190.830</td>\n",
              "      <td>1441.460</td>\n",
              "      <td>1170.880</td>\n",
              "      <td>1095.000</td>\n",
              "      <td>1818.650</td>\n",
              "      <td>2501.72</td>\n",
              "      <td>1247.770</td>\n",
              "    </tr>\n",
              "    <tr>\n",
              "      <th>7998</th>\n",
              "      <td>10542</td>\n",
              "      <td>10543</td>\n",
              "      <td>impervious</td>\n",
              "      <td>3465.7400</td>\n",
              "      <td>1283.320</td>\n",
              "      <td>413.412</td>\n",
              "      <td>4391.05</td>\n",
              "      <td>1146.820</td>\n",
              "      <td>4473.050</td>\n",
              "      <td>1614.750</td>\n",
              "      <td>...</td>\n",
              "      <td>5833.760</td>\n",
              "      <td>4047.320</td>\n",
              "      <td>4515.800</td>\n",
              "      <td>433.177</td>\n",
              "      <td>277.296</td>\n",
              "      <td>744.143</td>\n",
              "      <td>NaN</td>\n",
              "      <td>3759.710</td>\n",
              "      <td>NaN</td>\n",
              "      <td>388.346</td>\n",
              "    </tr>\n",
              "    <tr>\n",
              "      <th>7999</th>\n",
              "      <td>10544</td>\n",
              "      <td>10545</td>\n",
              "      <td>impervious</td>\n",
              "      <td>6941.1900</td>\n",
              "      <td>1667.870</td>\n",
              "      <td>5084.780</td>\n",
              "      <td>NaN</td>\n",
              "      <td>1588.950</td>\n",
              "      <td>5978.190</td>\n",
              "      <td>NaN</td>\n",
              "      <td>...</td>\n",
              "      <td>7352.570</td>\n",
              "      <td>3289.860</td>\n",
              "      <td>3729.150</td>\n",
              "      <td>1994.980</td>\n",
              "      <td>NaN</td>\n",
              "      <td>5299.900</td>\n",
              "      <td>NaN</td>\n",
              "      <td>5983.130</td>\n",
              "      <td>1249.71</td>\n",
              "      <td>2424.230</td>\n",
              "    </tr>\n",
              "  </tbody>\n",
              "</table>\n",
              "<p>8000 rows × 30 columns</p>\n",
              "</div>"
            ],
            "text/plain": [
              "      Unnamed: 0     ID       class  20150720_N  20150602_N  20150517_N  \\\n",
              "0              0      1       water    637.5950     658.668   -1882.030   \n",
              "1              1      2       water    634.2400     593.705   -1625.790   \n",
              "2              3      4       water     58.0174   -1599.160         NaN   \n",
              "3              4      5       water     72.5180         NaN     380.436   \n",
              "4              7      8       water   1136.4400         NaN         NaN   \n",
              "...          ...    ...         ...         ...         ...         ...   \n",
              "7995       10537  10538  impervious   1207.7000     984.620         NaN   \n",
              "7996       10538  10539  impervious   2170.3500    1419.720    1361.000   \n",
              "7997       10541  10542  impervious   1895.6800    1454.740         NaN   \n",
              "7998       10542  10543  impervious   3465.7400    1283.320     413.412   \n",
              "7999       10544  10545  impervious   6941.1900    1667.870    5084.780   \n",
              "\n",
              "      20150501_N  20150415_N  20150330_N  20150314_N  ...  20140610_N  \\\n",
              "0       -1924.36     997.904   -1739.990     630.087  ...         NaN   \n",
              "1       -1672.32     914.198    -692.386     707.626  ...         NaN   \n",
              "2       -1052.63         NaN   -1564.630         NaN  ...   -1025.880   \n",
              "3       -1256.93     515.805   -1413.180    -802.942  ...   -1813.950   \n",
              "4        1647.83    1935.800         NaN    2158.980  ...    1535.000   \n",
              "...          ...         ...         ...         ...  ...         ...   \n",
              "7995     1166.25     937.478    1072.700     823.896  ...    1117.740   \n",
              "7996     1478.71     983.911    1262.110    1422.860  ...     984.634   \n",
              "7997     1033.56    1930.380    1057.150    1471.600  ...     888.408   \n",
              "7998     4391.05    1146.820    4473.050    1614.750  ...    5833.760   \n",
              "7999         NaN    1588.950    5978.190         NaN  ...    7352.570   \n",
              "\n",
              "      20140525_N  20140509_N  20140423_N  20140407_N  20140322_N  20140218_N  \\\n",
              "0      -1043.160   -1942.490     267.138         NaN         NaN     211.328   \n",
              "1       -933.934    -625.385     120.059     364.858     476.972     220.878   \n",
              "2        368.622         NaN   -1227.800     304.621         NaN     369.214   \n",
              "3        155.624         NaN    -924.073     432.150     282.833     298.320   \n",
              "4       1959.430    -279.317    -384.915    -113.406    1020.720    1660.650   \n",
              "...          ...         ...         ...         ...         ...         ...   \n",
              "7995    1176.600    1044.110         NaN     369.082     465.843     362.882   \n",
              "7996    2128.970    1379.660         NaN     762.633     485.204     446.724   \n",
              "7997    2093.020    1232.110    1190.830    1441.460    1170.880    1095.000   \n",
              "7998    4047.320    4515.800     433.177     277.296     744.143         NaN   \n",
              "7999    3289.860    3729.150    1994.980         NaN    5299.900         NaN   \n",
              "\n",
              "      20140202_N  20140117_N  20140101_N  \n",
              "0      -2203.020    -1180.19     433.906  \n",
              "1      -2250.000    -1360.56     524.075  \n",
              "2      -2202.120         NaN   -1343.550  \n",
              "3      -2197.360         NaN    -826.727  \n",
              "4       -116.801     -568.05   -1357.140  \n",
              "...          ...         ...         ...  \n",
              "7995     979.795         NaN     433.659  \n",
              "7996     771.747     1589.06     506.936  \n",
              "7997    1818.650     2501.72    1247.770  \n",
              "7998    3759.710         NaN     388.346  \n",
              "7999    5983.130     1249.71    2424.230  \n",
              "\n",
              "[8000 rows x 30 columns]"
            ]
          },
          "execution_count": 4,
          "metadata": {},
          "output_type": "execute_result"
        }
      ],
      "source": [
        "df = pd.read_csv(r\"hacktrain.csv\")\n",
        "df #ignore the warnings"
      ]
    },
    {
      "cell_type": "code",
      "execution_count": 5,
      "id": "92e3be16",
      "metadata": {
        "execution": {
          "iopub.execute_input": "2025-06-04T15:58:19.281351Z",
          "iopub.status.busy": "2025-06-04T15:58:19.280881Z",
          "iopub.status.idle": "2025-06-04T15:58:19.297749Z",
          "shell.execute_reply": "2025-06-04T15:58:19.296541Z"
        },
        "id": "92e3be16",
        "outputId": "9fca1bdf-d6c8-4f4f-9b48-e92d1afa0e03",
        "papermill": {
          "duration": 0.023701,
          "end_time": "2025-06-04T15:58:19.299357",
          "exception": false,
          "start_time": "2025-06-04T15:58:19.275656",
          "status": "completed"
        },
        "tags": []
      },
      "outputs": [
        {
          "data": {
            "text/plain": [
              "Unnamed: 0       0\n",
              "ID               0\n",
              "class            0\n",
              "20150720_N     560\n",
              "20150602_N    1200\n",
              "20150517_N     800\n",
              "20150501_N     960\n",
              "20150415_N     480\n",
              "20150330_N    1120\n",
              "20150314_N     720\n",
              "20150226_N    1360\n",
              "20150210_N     640\n",
              "20150125_N    1040\n",
              "20150109_N     880\n",
              "20141117_N    1280\n",
              "20141101_N     400\n",
              "20141016_N    1440\n",
              "20140930_N     800\n",
              "20140813_N     560\n",
              "20140626_N    1600\n",
              "20140610_N     480\n",
              "20140525_N     720\n",
              "20140509_N     880\n",
              "20140423_N    1760\n",
              "20140407_N     640\n",
              "20140322_N    1120\n",
              "20140218_N    1440\n",
              "20140202_N     560\n",
              "20140117_N    1200\n",
              "20140101_N     400\n",
              "dtype: int64"
            ]
          },
          "execution_count": 5,
          "metadata": {},
          "output_type": "execute_result"
        }
      ],
      "source": [
        "df.isnull().sum()"
      ]
    },
    {
      "cell_type": "code",
      "execution_count": 73,
      "id": "8646c661",
      "metadata": {
        "execution": {
          "iopub.execute_input": "2025-06-04T15:58:19.308529Z",
          "iopub.status.busy": "2025-06-04T15:58:19.308132Z",
          "iopub.status.idle": "2025-06-04T15:58:19.339698Z",
          "shell.execute_reply": "2025-06-04T15:58:19.338734Z"
        },
        "id": "8646c661",
        "outputId": "5b6e2593-bf12-4be7-cbca-1bc8601c76c2",
        "papermill": {
          "duration": 0.037963,
          "end_time": "2025-06-04T15:58:19.341331",
          "exception": false,
          "start_time": "2025-06-04T15:58:19.303368",
          "status": "completed"
        },
        "tags": []
      },
      "outputs": [],
      "source": [
        "# df.fillna(df.mean(numeric_only=True), inplace=True) #simple mean imputation [This part has a lot of scope for imporovement.]\n",
        "# #keep in mind that the data is inherently noisy and the test dataset is not.\n",
        "# df.isnull().sum()"
      ]
    },
    {
      "cell_type": "code",
      "execution_count": 74,
      "id": "e0b3a2da",
      "metadata": {},
      "outputs": [
        {
          "name": "stdout",
          "output_type": "stream",
          "text": [
            "Unnamed: 0    0\n",
            "ID            0\n",
            "class         0\n",
            "20150720_N    0\n",
            "20150602_N    0\n",
            "20150517_N    0\n",
            "20150501_N    0\n",
            "20150415_N    0\n",
            "20150330_N    0\n",
            "20150314_N    0\n",
            "20150226_N    0\n",
            "20150210_N    0\n",
            "20150125_N    0\n",
            "20150109_N    0\n",
            "20141117_N    0\n",
            "20141101_N    0\n",
            "20141016_N    0\n",
            "20140930_N    0\n",
            "20140813_N    0\n",
            "20140626_N    0\n",
            "20140610_N    0\n",
            "20140525_N    0\n",
            "20140509_N    0\n",
            "20140423_N    0\n",
            "20140407_N    0\n",
            "20140322_N    0\n",
            "20140218_N    0\n",
            "20140202_N    0\n",
            "20140117_N    0\n",
            "20140101_N    0\n",
            "dtype: int64\n"
          ]
        }
      ],
      "source": [
        "# Identify NDVI time series columns (assuming they all end with '_N')\n",
        "time_points = [col for col in df.columns if col.endswith('_N')]\n",
        "\n",
        "# Step 1: Use linear interpolation along each time series to handle missing values.\n",
        "# limit_direction='both' ensures that missing values at the start or end are filled.\n",
        "df[time_points] = df[time_points].apply(lambda col: col.interpolate(method='linear', limit_direction='both'))\n",
        "\n",
        "# Step 2: (Optional) Apply a rolling window average (e.g., window=3) to smooth the noisy data.\n",
        "df[time_points] = df[time_points].rolling(window=3, min_periods=1).mean()\n",
        "\n",
        "# Verify that there are no missing values left\n",
        "print(df.isnull().sum())"
      ]
    },
    {
      "cell_type": "code",
      "execution_count": 75,
      "id": "c5a6f9fa",
      "metadata": {
        "execution": {
          "iopub.execute_input": "2025-06-04T15:58:19.350301Z",
          "iopub.status.busy": "2025-06-04T15:58:19.349991Z",
          "iopub.status.idle": "2025-06-04T15:58:21.995502Z",
          "shell.execute_reply": "2025-06-04T15:58:21.992246Z"
        },
        "id": "c5a6f9fa",
        "outputId": "06c5bb2f-bcd6-42f8-d345-25b3ed28e41a",
        "papermill": {
          "duration": 2.652139,
          "end_time": "2025-06-04T15:58:21.997405",
          "exception": false,
          "start_time": "2025-06-04T15:58:19.345266",
          "status": "completed"
        },
        "tags": []
      },
      "outputs": [
        {
          "name": "stderr",
          "output_type": "stream",
          "text": [
            "f:\\PRGRAMME\\PYTHON 3.12\\Lib\\site-packages\\sklearn\\linear_model\\_logistic.py:1264: FutureWarning: 'multi_class' was deprecated in version 1.5 and will be removed in 1.7. From then on, it will always use 'multinomial'. Leave it to its default value to avoid this warning.\n",
            "  warnings.warn(\n",
            "f:\\PRGRAMME\\PYTHON 3.12\\Lib\\site-packages\\sklearn\\linear_model\\_logistic.py:1264: FutureWarning: 'multi_class' was deprecated in version 1.5 and will be removed in 1.7. From then on, it will always use 'multinomial'. Leave it to its default value to avoid this warning.\n",
            "  warnings.warn(\n",
            "f:\\PRGRAMME\\PYTHON 3.12\\Lib\\site-packages\\sklearn\\linear_model\\_logistic.py:1264: FutureWarning: 'multi_class' was deprecated in version 1.5 and will be removed in 1.7. From then on, it will always use 'multinomial'. Leave it to its default value to avoid this warning.\n",
            "  warnings.warn(\n",
            "f:\\PRGRAMME\\PYTHON 3.12\\Lib\\site-packages\\sklearn\\linear_model\\_logistic.py:1264: FutureWarning: 'multi_class' was deprecated in version 1.5 and will be removed in 1.7. From then on, it will always use 'multinomial'. Leave it to its default value to avoid this warning.\n",
            "  warnings.warn(\n",
            "f:\\PRGRAMME\\PYTHON 3.12\\Lib\\site-packages\\sklearn\\linear_model\\_logistic.py:1264: FutureWarning: 'multi_class' was deprecated in version 1.5 and will be removed in 1.7. From then on, it will always use 'multinomial'. Leave it to its default value to avoid this warning.\n",
            "  warnings.warn(\n",
            "f:\\PRGRAMME\\PYTHON 3.12\\Lib\\site-packages\\sklearn\\linear_model\\_logistic.py:1264: FutureWarning: 'multi_class' was deprecated in version 1.5 and will be removed in 1.7. From then on, it will always use 'multinomial'. Leave it to its default value to avoid this warning.\n",
            "  warnings.warn(\n",
            "f:\\PRGRAMME\\PYTHON 3.12\\Lib\\site-packages\\sklearn\\linear_model\\_logistic.py:1264: FutureWarning: 'multi_class' was deprecated in version 1.5 and will be removed in 1.7. From then on, it will always use 'multinomial'. Leave it to its default value to avoid this warning.\n",
            "  warnings.warn(\n",
            "f:\\PRGRAMME\\PYTHON 3.12\\Lib\\site-packages\\sklearn\\linear_model\\_logistic.py:1264: FutureWarning: 'multi_class' was deprecated in version 1.5 and will be removed in 1.7. From then on, it will always use 'multinomial'. Leave it to its default value to avoid this warning.\n",
            "  warnings.warn(\n",
            "f:\\PRGRAMME\\PYTHON 3.12\\Lib\\site-packages\\sklearn\\linear_model\\_logistic.py:1264: FutureWarning: 'multi_class' was deprecated in version 1.5 and will be removed in 1.7. From then on, it will always use 'multinomial'. Leave it to its default value to avoid this warning.\n",
            "  warnings.warn(\n",
            "f:\\PRGRAMME\\PYTHON 3.12\\Lib\\site-packages\\sklearn\\linear_model\\_logistic.py:1264: FutureWarning: 'multi_class' was deprecated in version 1.5 and will be removed in 1.7. From then on, it will always use 'multinomial'. Leave it to its default value to avoid this warning.\n",
            "  warnings.warn(\n",
            "f:\\PRGRAMME\\PYTHON 3.12\\Lib\\site-packages\\sklearn\\linear_model\\_logistic.py:1264: FutureWarning: 'multi_class' was deprecated in version 1.5 and will be removed in 1.7. From then on, it will always use 'multinomial'. Leave it to its default value to avoid this warning.\n",
            "  warnings.warn(\n",
            "f:\\PRGRAMME\\PYTHON 3.12\\Lib\\site-packages\\sklearn\\linear_model\\_logistic.py:1264: FutureWarning: 'multi_class' was deprecated in version 1.5 and will be removed in 1.7. From then on, it will always use 'multinomial'. Leave it to its default value to avoid this warning.\n",
            "  warnings.warn(\n",
            "f:\\PRGRAMME\\PYTHON 3.12\\Lib\\site-packages\\sklearn\\linear_model\\_logistic.py:1264: FutureWarning: 'multi_class' was deprecated in version 1.5 and will be removed in 1.7. From then on, it will always use 'multinomial'. Leave it to its default value to avoid this warning.\n",
            "  warnings.warn(\n",
            "f:\\PRGRAMME\\PYTHON 3.12\\Lib\\site-packages\\sklearn\\linear_model\\_logistic.py:1264: FutureWarning: 'multi_class' was deprecated in version 1.5 and will be removed in 1.7. From then on, it will always use 'multinomial'. Leave it to its default value to avoid this warning.\n",
            "  warnings.warn(\n",
            "f:\\PRGRAMME\\PYTHON 3.12\\Lib\\site-packages\\sklearn\\linear_model\\_logistic.py:1264: FutureWarning: 'multi_class' was deprecated in version 1.5 and will be removed in 1.7. From then on, it will always use 'multinomial'. Leave it to its default value to avoid this warning.\n",
            "  warnings.warn(\n",
            "f:\\PRGRAMME\\PYTHON 3.12\\Lib\\site-packages\\sklearn\\linear_model\\_logistic.py:1264: FutureWarning: 'multi_class' was deprecated in version 1.5 and will be removed in 1.7. From then on, it will always use 'multinomial'. Leave it to its default value to avoid this warning.\n",
            "  warnings.warn(\n",
            "f:\\PRGRAMME\\PYTHON 3.12\\Lib\\site-packages\\sklearn\\linear_model\\_logistic.py:1264: FutureWarning: 'multi_class' was deprecated in version 1.5 and will be removed in 1.7. From then on, it will always use 'multinomial'. Leave it to its default value to avoid this warning.\n",
            "  warnings.warn(\n",
            "f:\\PRGRAMME\\PYTHON 3.12\\Lib\\site-packages\\sklearn\\linear_model\\_logistic.py:1264: FutureWarning: 'multi_class' was deprecated in version 1.5 and will be removed in 1.7. From then on, it will always use 'multinomial'. Leave it to its default value to avoid this warning.\n",
            "  warnings.warn(\n",
            "f:\\PRGRAMME\\PYTHON 3.12\\Lib\\site-packages\\sklearn\\linear_model\\_logistic.py:1264: FutureWarning: 'multi_class' was deprecated in version 1.5 and will be removed in 1.7. From then on, it will always use 'multinomial'. Leave it to its default value to avoid this warning.\n",
            "  warnings.warn(\n",
            "f:\\PRGRAMME\\PYTHON 3.12\\Lib\\site-packages\\sklearn\\linear_model\\_logistic.py:1264: FutureWarning: 'multi_class' was deprecated in version 1.5 and will be removed in 1.7. From then on, it will always use 'multinomial'. Leave it to its default value to avoid this warning.\n",
            "  warnings.warn(\n",
            "f:\\PRGRAMME\\PYTHON 3.12\\Lib\\site-packages\\sklearn\\linear_model\\_logistic.py:1264: FutureWarning: 'multi_class' was deprecated in version 1.5 and will be removed in 1.7. From then on, it will always use 'multinomial'. Leave it to its default value to avoid this warning.\n",
            "  warnings.warn(\n",
            "f:\\PRGRAMME\\PYTHON 3.12\\Lib\\site-packages\\sklearn\\linear_model\\_logistic.py:1264: FutureWarning: 'multi_class' was deprecated in version 1.5 and will be removed in 1.7. From then on, it will always use 'multinomial'. Leave it to its default value to avoid this warning.\n",
            "  warnings.warn(\n",
            "f:\\PRGRAMME\\PYTHON 3.12\\Lib\\site-packages\\sklearn\\linear_model\\_logistic.py:1264: FutureWarning: 'multi_class' was deprecated in version 1.5 and will be removed in 1.7. From then on, it will always use 'multinomial'. Leave it to its default value to avoid this warning.\n",
            "  warnings.warn(\n",
            "f:\\PRGRAMME\\PYTHON 3.12\\Lib\\site-packages\\sklearn\\linear_model\\_logistic.py:1264: FutureWarning: 'multi_class' was deprecated in version 1.5 and will be removed in 1.7. From then on, it will always use 'multinomial'. Leave it to its default value to avoid this warning.\n",
            "  warnings.warn(\n",
            "f:\\PRGRAMME\\PYTHON 3.12\\Lib\\site-packages\\sklearn\\linear_model\\_logistic.py:1264: FutureWarning: 'multi_class' was deprecated in version 1.5 and will be removed in 1.7. From then on, it will always use 'multinomial'. Leave it to its default value to avoid this warning.\n",
            "  warnings.warn(\n",
            "f:\\PRGRAMME\\PYTHON 3.12\\Lib\\site-packages\\sklearn\\linear_model\\_logistic.py:1264: FutureWarning: 'multi_class' was deprecated in version 1.5 and will be removed in 1.7. From then on, it will always use 'multinomial'. Leave it to its default value to avoid this warning.\n",
            "  warnings.warn(\n"
          ]
        },
        {
          "name": "stdout",
          "output_type": "stream",
          "text": [
            "Best C parameter: {'C': 100}\n",
            "              precision    recall  f1-score   support\n",
            "\n",
            "        farm       0.87      0.88      0.87       168\n",
            "      forest       1.00      1.00      1.00      1232\n",
            "       grass       0.84      0.79      0.82        39\n",
            "  impervious       0.86      0.87      0.86       134\n",
            "     orchard       0.60      0.50      0.55         6\n",
            "       water       0.95      0.86      0.90        21\n",
            "\n",
            "    accuracy                           0.97      1600\n",
            "   macro avg       0.85      0.82      0.83      1600\n",
            "weighted avg       0.97      0.97      0.97      1600\n",
            "\n"
          ]
        }
      ],
      "source": [
        "import pandas as pd\n",
        "from sklearn.linear_model import LogisticRegression\n",
        "from sklearn.model_selection import train_test_split, GridSearchCV\n",
        "from sklearn.preprocessing import LabelEncoder, StandardScaler\n",
        "from sklearn.metrics import classification_report\n",
        "\n",
        "# Drop ID column\n",
        "df.drop(columns=['ID'], inplace=True)\n",
        "\n",
        "# Encode class column\n",
        "label_encoder = LabelEncoder()\n",
        "df['class'] = label_encoder.fit_transform(df['class'])\n",
        "\n",
        "# Split into features and target\n",
        "X = df.drop(columns=['class'])\n",
        "y = df['class']\n",
        "\n",
        "# Train-test split (with stratification to maintain class distribution)\n",
        "X_train, X_test, y_train, y_test = train_test_split(\n",
        "    X, y, test_size=0.2, random_state=42, stratify=y)\n",
        "\n",
        "# Feature scaling (important for Logistic Regression convergence)\n",
        "scaler = StandardScaler()\n",
        "X_train = scaler.fit_transform(X_train)\n",
        "X_test = scaler.transform(X_test)\n",
        "\n",
        "# Set up the Logistic Regression with increased max_iter\n",
        "model = LogisticRegression(\n",
        "    multi_class='multinomial', \n",
        "    solver='lbfgs', \n",
        "    max_iter=1000  # Increased from 10 for better convergence\n",
        ")\n",
        "\n",
        "# Optional: Hyperparameter tuning with Grid Search over 'C'\n",
        "param_grid = {'C': [0.01, 0.1, 1, 10, 100]}\n",
        "grid_search = GridSearchCV(model, param_grid, cv=5, scoring='accuracy')\n",
        "grid_search.fit(X_train, y_train)\n",
        "best_model = grid_search.best_estimator_\n",
        "print(\"Best C parameter:\", grid_search.best_params_)\n",
        "\n",
        "# Predict on test set using the best estimator\n",
        "y_pred = best_model.predict(X_test)\n",
        "\n",
        "# Classification report with original class labels\n",
        "print(classification_report(\n",
        "    y_test,\n",
        "    y_pred,\n",
        "    labels=list(range(len(label_encoder.classes_))),\n",
        "    target_names=label_encoder.classes_\n",
        "))"
      ]
    },
    {
      "cell_type": "code",
      "execution_count": 76,
      "id": "ff1cd1b8",
      "metadata": {
        "execution": {
          "iopub.execute_input": "2025-06-04T15:58:22.013108Z",
          "iopub.status.busy": "2025-06-04T15:58:22.012559Z",
          "iopub.status.idle": "2025-06-04T15:58:22.070775Z",
          "shell.execute_reply": "2025-06-04T15:58:22.069883Z"
        },
        "id": "ff1cd1b8",
        "outputId": "bb057ee5-3db6-4a3c-f11e-3ece3a9e6b6d",
        "papermill": {
          "duration": 0.068872,
          "end_time": "2025-06-04T15:58:22.072964",
          "exception": false,
          "start_time": "2025-06-04T15:58:22.004092",
          "status": "completed"
        },
        "tags": []
      },
      "outputs": [
        {
          "data": {
            "text/plain": [
              "(2845, 29)"
            ]
          },
          "execution_count": 76,
          "metadata": {},
          "output_type": "execute_result"
        }
      ],
      "source": [
        "test_data = pd.read_csv(\"hacktest.csv\")\n",
        "test_data.shape"
      ]
    },
    {
      "cell_type": "code",
      "execution_count": 77,
      "id": "ac73a96b",
      "metadata": {
        "execution": {
          "iopub.execute_input": "2025-06-04T15:58:22.083517Z",
          "iopub.status.busy": "2025-06-04T15:58:22.083182Z",
          "iopub.status.idle": "2025-06-04T15:58:22.089394Z",
          "shell.execute_reply": "2025-06-04T15:58:22.088300Z"
        },
        "id": "ac73a96b",
        "papermill": {
          "duration": 0.013382,
          "end_time": "2025-06-04T15:58:22.091265",
          "exception": false,
          "start_time": "2025-06-04T15:58:22.077883",
          "status": "completed"
        },
        "tags": []
      },
      "outputs": [],
      "source": [
        "# Store the ID column before dropping it and create a new DataFrame excluding the ID\n",
        "ID = test_data['ID'].copy()\n",
        "test_data_no_id = test_data.drop(['ID'], axis=1,inplace=True)"
      ]
    },
    {
      "cell_type": "code",
      "execution_count": 78,
      "id": "e65b77a4",
      "metadata": {
        "execution": {
          "iopub.execute_input": "2025-06-04T15:58:22.100828Z",
          "iopub.status.busy": "2025-06-04T15:58:22.100506Z",
          "iopub.status.idle": "2025-06-04T15:58:22.107742Z",
          "shell.execute_reply": "2025-06-04T15:58:22.106845Z"
        },
        "id": "e65b77a4",
        "papermill": {
          "duration": 0.013618,
          "end_time": "2025-06-04T15:58:22.109275",
          "exception": false,
          "start_time": "2025-06-04T15:58:22.095657",
          "status": "completed"
        },
        "tags": []
      },
      "outputs": [
        {
          "name": "stderr",
          "output_type": "stream",
          "text": [
            "f:\\PRGRAMME\\PYTHON 3.12\\Lib\\site-packages\\sklearn\\linear_model\\_logistic.py:1264: FutureWarning: 'multi_class' was deprecated in version 1.5 and will be removed in 1.7. From then on, it will always use 'multinomial'. Leave it to its default value to avoid this warning.\n",
            "  warnings.warn(\n",
            "f:\\PRGRAMME\\PYTHON 3.12\\Lib\\site-packages\\sklearn\\utils\\validation.py:2742: UserWarning: X has feature names, but LogisticRegression was fitted without feature names\n",
            "  warnings.warn(\n"
          ]
        }
      ],
      "source": [
        "model.fit(X_train, y_train)\n",
        "y_test = model.predict(test_data)"
      ]
    },
    {
      "cell_type": "code",
      "execution_count": 79,
      "id": "44be4c4c",
      "metadata": {
        "execution": {
          "iopub.execute_input": "2025-06-04T15:58:22.118877Z",
          "iopub.status.busy": "2025-06-04T15:58:22.118550Z",
          "iopub.status.idle": "2025-06-04T15:58:22.124893Z",
          "shell.execute_reply": "2025-06-04T15:58:22.124077Z"
        },
        "id": "44be4c4c",
        "outputId": "89fa17e6-5ae0-48df-d287-53fa0f2fe3c8",
        "papermill": {
          "duration": 0.01289,
          "end_time": "2025-06-04T15:58:22.126324",
          "exception": false,
          "start_time": "2025-06-04T15:58:22.113434",
          "status": "completed"
        },
        "tags": []
      },
      "outputs": [
        {
          "data": {
            "text/plain": [
              "array([1, 1, 1, ..., 2, 2, 2])"
            ]
          },
          "execution_count": 79,
          "metadata": {},
          "output_type": "execute_result"
        }
      ],
      "source": [
        "y_test"
      ]
    },
    {
      "cell_type": "code",
      "execution_count": 80,
      "id": "aeee262b",
      "metadata": {
        "execution": {
          "iopub.execute_input": "2025-06-04T15:58:22.135812Z",
          "iopub.status.busy": "2025-06-04T15:58:22.135493Z",
          "iopub.status.idle": "2025-06-04T15:58:22.142058Z",
          "shell.execute_reply": "2025-06-04T15:58:22.141224Z"
        },
        "id": "aeee262b",
        "outputId": "cb00f1f5-c716-443b-9a45-c0e9c58444fc",
        "papermill": {
          "duration": 0.013121,
          "end_time": "2025-06-04T15:58:22.143689",
          "exception": false,
          "start_time": "2025-06-04T15:58:22.130568",
          "status": "completed"
        },
        "tags": []
      },
      "outputs": [
        {
          "data": {
            "text/plain": [
              "array(['forest', 'forest', 'forest', ..., 'grass', 'grass', 'grass'],\n",
              "      dtype=object)"
            ]
          },
          "execution_count": 80,
          "metadata": {},
          "output_type": "execute_result"
        }
      ],
      "source": [
        "y_decoded = label_encoder.inverse_transform(y_test)\n",
        "y_decoded"
      ]
    },
    {
      "cell_type": "code",
      "execution_count": 81,
      "id": "e10db231",
      "metadata": {
        "execution": {
          "iopub.execute_input": "2025-06-04T15:58:22.153558Z",
          "iopub.status.busy": "2025-06-04T15:58:22.153118Z",
          "iopub.status.idle": "2025-06-04T15:58:22.158731Z",
          "shell.execute_reply": "2025-06-04T15:58:22.157523Z"
        },
        "id": "e10db231",
        "papermill": {
          "duration": 0.012481,
          "end_time": "2025-06-04T15:58:22.160251",
          "exception": false,
          "start_time": "2025-06-04T15:58:22.147770",
          "status": "completed"
        },
        "tags": []
      },
      "outputs": [],
      "source": [
        "result = pd.DataFrame({\n",
        "    'ID': ID,\n",
        "    'class': y_decoded\n",
        "})"
      ]
    },
    {
      "cell_type": "code",
      "execution_count": 82,
      "id": "9906b67f",
      "metadata": {
        "execution": {
          "iopub.execute_input": "2025-06-04T15:58:22.169987Z",
          "iopub.status.busy": "2025-06-04T15:58:22.169596Z",
          "iopub.status.idle": "2025-06-04T15:58:22.179704Z",
          "shell.execute_reply": "2025-06-04T15:58:22.178864Z"
        },
        "id": "9906b67f",
        "outputId": "b8258dbc-fd7e-444b-b085-57b1c0dcb4df",
        "papermill": {
          "duration": 0.01673,
          "end_time": "2025-06-04T15:58:22.181310",
          "exception": false,
          "start_time": "2025-06-04T15:58:22.164580",
          "status": "completed"
        },
        "tags": []
      },
      "outputs": [
        {
          "data": {
            "text/html": [
              "<div>\n",
              "<style scoped>\n",
              "    .dataframe tbody tr th:only-of-type {\n",
              "        vertical-align: middle;\n",
              "    }\n",
              "\n",
              "    .dataframe tbody tr th {\n",
              "        vertical-align: top;\n",
              "    }\n",
              "\n",
              "    .dataframe thead th {\n",
              "        text-align: right;\n",
              "    }\n",
              "</style>\n",
              "<table border=\"1\" class=\"dataframe\">\n",
              "  <thead>\n",
              "    <tr style=\"text-align: right;\">\n",
              "      <th></th>\n",
              "      <th>ID</th>\n",
              "      <th>class</th>\n",
              "    </tr>\n",
              "  </thead>\n",
              "  <tbody>\n",
              "    <tr>\n",
              "      <th>0</th>\n",
              "      <td>1</td>\n",
              "      <td>forest</td>\n",
              "    </tr>\n",
              "    <tr>\n",
              "      <th>1</th>\n",
              "      <td>2</td>\n",
              "      <td>forest</td>\n",
              "    </tr>\n",
              "    <tr>\n",
              "      <th>2</th>\n",
              "      <td>3</td>\n",
              "      <td>forest</td>\n",
              "    </tr>\n",
              "    <tr>\n",
              "      <th>3</th>\n",
              "      <td>4</td>\n",
              "      <td>forest</td>\n",
              "    </tr>\n",
              "    <tr>\n",
              "      <th>4</th>\n",
              "      <td>5</td>\n",
              "      <td>forest</td>\n",
              "    </tr>\n",
              "    <tr>\n",
              "      <th>...</th>\n",
              "      <td>...</td>\n",
              "      <td>...</td>\n",
              "    </tr>\n",
              "    <tr>\n",
              "      <th>2840</th>\n",
              "      <td>2841</td>\n",
              "      <td>grass</td>\n",
              "    </tr>\n",
              "    <tr>\n",
              "      <th>2841</th>\n",
              "      <td>2842</td>\n",
              "      <td>grass</td>\n",
              "    </tr>\n",
              "    <tr>\n",
              "      <th>2842</th>\n",
              "      <td>2843</td>\n",
              "      <td>grass</td>\n",
              "    </tr>\n",
              "    <tr>\n",
              "      <th>2843</th>\n",
              "      <td>2844</td>\n",
              "      <td>grass</td>\n",
              "    </tr>\n",
              "    <tr>\n",
              "      <th>2844</th>\n",
              "      <td>2845</td>\n",
              "      <td>grass</td>\n",
              "    </tr>\n",
              "  </tbody>\n",
              "</table>\n",
              "<p>2845 rows × 2 columns</p>\n",
              "</div>"
            ],
            "text/plain": [
              "        ID   class\n",
              "0        1  forest\n",
              "1        2  forest\n",
              "2        3  forest\n",
              "3        4  forest\n",
              "4        5  forest\n",
              "...    ...     ...\n",
              "2840  2841   grass\n",
              "2841  2842   grass\n",
              "2842  2843   grass\n",
              "2843  2844   grass\n",
              "2844  2845   grass\n",
              "\n",
              "[2845 rows x 2 columns]"
            ]
          },
          "execution_count": 82,
          "metadata": {},
          "output_type": "execute_result"
        }
      ],
      "source": [
        "result"
      ]
    },
    {
      "cell_type": "code",
      "execution_count": 83,
      "id": "484c74df",
      "metadata": {
        "execution": {
          "iopub.execute_input": "2025-06-04T15:58:22.191842Z",
          "iopub.status.busy": "2025-06-04T15:58:22.191520Z",
          "iopub.status.idle": "2025-06-04T15:58:22.204266Z",
          "shell.execute_reply": "2025-06-04T15:58:22.203246Z"
        },
        "id": "484c74df",
        "papermill": {
          "duration": 0.020066,
          "end_time": "2025-06-04T15:58:22.206173",
          "exception": false,
          "start_time": "2025-06-04T15:58:22.186107",
          "status": "completed"
        },
        "tags": []
      },
      "outputs": [],
      "source": [
        "result.to_csv(\"submission.csv\", index=False) #this file will appear under the output section of the right navbar. You need to submit this csv file"
      ]
    },
    {
      "cell_type": "code",
      "execution_count": 88,
      "id": "60bc6119",
      "metadata": {
        "id": "60bc6119",
        "papermill": {
          "duration": 0.004107,
          "end_time": "2025-06-04T15:58:22.214773",
          "exception": false,
          "start_time": "2025-06-04T15:58:22.210666",
          "status": "completed"
        },
        "tags": []
      },
      "outputs": [],
      "source": [
        "from sklearn.model_selection import train_test_split\n",
        "\n",
        "# X contains features, y contains the true labels\n",
        "X_train, X_test, y_train, y_test = train_test_split(\n",
        "    X, y, test_size=0.2, random_state=42, stratify=y)"
      ]
    },
    {
      "cell_type": "code",
      "execution_count": 89,
      "id": "eb0f5d5e",
      "metadata": {},
      "outputs": [
        {
          "name": "stderr",
          "output_type": "stream",
          "text": [
            "f:\\PRGRAMME\\PYTHON 3.12\\Lib\\site-packages\\sklearn\\utils\\validation.py:2742: UserWarning: X has feature names, but LogisticRegression was fitted without feature names\n",
            "  warnings.warn(\n"
          ]
        }
      ],
      "source": [
        "y_pred = model.predict(X_test)"
      ]
    },
    {
      "cell_type": "code",
      "execution_count": 90,
      "id": "ee72abe1",
      "metadata": {},
      "outputs": [
        {
          "name": "stdout",
          "output_type": "stream",
          "text": [
            "Accuracy: 0.11625\n"
          ]
        }
      ],
      "source": [
        "from sklearn.metrics import accuracy_score\n",
        "\n",
        "accuracy = accuracy_score(y_test, y_pred)\n",
        "print(\"Accuracy:\", accuracy)"
      ]
    },
    {
      "cell_type": "code",
      "execution_count": 91,
      "id": "f8291d13",
      "metadata": {},
      "outputs": [
        {
          "name": "stdout",
          "output_type": "stream",
          "text": [
            "              precision    recall  f1-score   support\n",
            "\n",
            "        farm       0.00      0.00      0.00       168\n",
            "      forest       0.92      0.12      0.21      1232\n",
            "       grass       0.03      1.00      0.05        39\n",
            "  impervious       0.00      0.00      0.00       134\n",
            "     orchard       0.00      0.00      0.00         6\n",
            "       water       1.00      0.05      0.09        21\n",
            "\n",
            "    accuracy                           0.12      1600\n",
            "   macro avg       0.32      0.19      0.06      1600\n",
            "weighted avg       0.72      0.12      0.16      1600\n",
            "\n"
          ]
        }
      ],
      "source": [
        "from sklearn.metrics import classification_report\n",
        "\n",
        "print(classification_report(y_test, y_pred, target_names=label_encoder.classes_))"
      ]
    },
    {
      "cell_type": "code",
      "execution_count": null,
      "id": "b06ae877",
      "metadata": {},
      "outputs": [],
      "source": []
    }
  ],
  "metadata": {
    "colab": {
      "provenance": []
    },
    "kaggle": {
      "accelerator": "none",
      "dataSources": [
        {
          "databundleVersionId": 12585144,
          "sourceId": 104491,
          "sourceType": "competition"
        }
      ],
      "dockerImageVersionId": 31040,
      "isGpuEnabled": false,
      "isInternetEnabled": true,
      "language": "python",
      "sourceType": "notebook"
    },
    "kernelspec": {
      "display_name": "Python 3",
      "language": "python",
      "name": "python3"
    },
    "language_info": {
      "codemirror_mode": {
        "name": "ipython",
        "version": 3
      },
      "file_extension": ".py",
      "mimetype": "text/x-python",
      "name": "python",
      "nbconvert_exporter": "python",
      "pygments_lexer": "ipython3",
      "version": "3.12.4"
    },
    "papermill": {
      "default_parameters": {},
      "duration": 12.460836,
      "end_time": "2025-06-04T15:58:22.939774",
      "environment_variables": {},
      "exception": null,
      "input_path": "__notebook__.ipynb",
      "output_path": "__notebook__.ipynb",
      "parameters": {},
      "start_time": "2025-06-04T15:58:10.478938",
      "version": "2.6.0"
    }
  },
  "nbformat": 4,
  "nbformat_minor": 5
}
