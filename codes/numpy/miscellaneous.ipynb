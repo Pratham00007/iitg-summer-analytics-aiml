{
 "cells": [
  {
   "cell_type": "code",
   "execution_count": 2,
   "id": "60c01bfd",
   "metadata": {},
   "outputs": [],
   "source": [
    "import numpy as np"
   ]
  },
  {
   "cell_type": "markdown",
   "id": "89687c76",
   "metadata": {},
   "source": [
    "load data from file"
   ]
  },
  {
   "cell_type": "code",
   "execution_count": 7,
   "id": "70c6b0d0",
   "metadata": {},
   "outputs": [
    {
     "data": {
      "text/plain": [
       "array([[1., 2., 3., 5., 6., 9., 5., 6., 5., 8., 9., 4., 6., 2., 4.],\n",
       "       [5., 8., 5., 6., 5., 6., 4., 6., 4., 6., 6., 4., 7., 8., 1.],\n",
       "       [4., 5., 6., 2., 9., 5., 6., 2., 6., 5., 2., 3., 2., 5., 2.]])"
      ]
     },
     "execution_count": 7,
     "metadata": {},
     "output_type": "execute_result"
    }
   ],
   "source": [
    "finaldata=np.genfromtxt('data.txt',delimiter=\",\")\n",
    "finaldata"
   ]
  },
  {
   "cell_type": "code",
   "execution_count": 8,
   "id": "29e2e6c6",
   "metadata": {},
   "outputs": [
    {
     "data": {
      "text/plain": [
       "array([[1, 2, 3, 5, 6, 9, 5, 6, 5, 8, 9, 4, 6, 2, 4],\n",
       "       [5, 8, 5, 6, 5, 6, 4, 6, 4, 6, 6, 4, 7, 8, 1],\n",
       "       [4, 5, 6, 2, 9, 5, 6, 2, 6, 5, 2, 3, 2, 5, 2]])"
      ]
     },
     "execution_count": 8,
     "metadata": {},
     "output_type": "execute_result"
    }
   ],
   "source": [
    "finaldata.astype('int32')"
   ]
  },
  {
   "cell_type": "markdown",
   "id": "30e722e4",
   "metadata": {},
   "source": [
    "advanced indexing and boolean masking"
   ]
  },
  {
   "cell_type": "code",
   "execution_count": 10,
   "id": "6369c33e",
   "metadata": {},
   "outputs": [
    {
     "data": {
      "text/plain": [
       "array([[False, False, False, False,  True,  True, False,  True, False,\n",
       "         True,  True, False,  True, False, False],\n",
       "       [False,  True, False,  True, False,  True, False,  True, False,\n",
       "         True,  True, False,  True,  True, False],\n",
       "       [False, False,  True, False,  True, False,  True, False,  True,\n",
       "        False, False, False, False, False, False]])"
      ]
     },
     "execution_count": 10,
     "metadata": {},
     "output_type": "execute_result"
    }
   ],
   "source": [
    "finaldata>5"
   ]
  },
  {
   "cell_type": "code",
   "execution_count": 12,
   "id": "5f9a96d7",
   "metadata": {},
   "outputs": [
    {
     "data": {
      "text/plain": [
       "array([6., 9., 6., 8., 9., 6., 8., 6., 6., 6., 6., 6., 7., 8., 6., 9., 6.,\n",
       "       6.])"
      ]
     },
     "execution_count": 12,
     "metadata": {},
     "output_type": "execute_result"
    }
   ],
   "source": [
    "finaldata[finaldata>5]"
   ]
  },
  {
   "cell_type": "code",
   "execution_count": 14,
   "id": "cc71f897",
   "metadata": {},
   "outputs": [
    {
     "data": {
      "text/plain": [
       "array([ 2, 34,  6])"
      ]
     },
     "execution_count": 14,
     "metadata": {},
     "output_type": "execute_result"
    }
   ],
   "source": [
    "# index with a list\n",
    "a=np.array([1,2,34,5,67,8,9,5,6])\n",
    "a[[1,2,-1]]"
   ]
  },
  {
   "cell_type": "code",
   "execution_count": null,
   "id": "f6270824",
   "metadata": {},
   "outputs": [
    {
     "data": {
      "text/plain": [
       "array([False,  True,  True,  True,  True,  True,  True,  True,  True,\n",
       "        True,  True, False,  True,  True, False])"
      ]
     },
     "execution_count": 15,
     "metadata": {},
     "output_type": "execute_result"
    }
   ],
   "source": [
    "np.any(finaldata>5,axis=0) #check each column if any value in column greater than 5"
   ]
  },
  {
   "cell_type": "code",
   "execution_count": null,
   "id": "eb7f4c66",
   "metadata": {},
   "outputs": [
    {
     "data": {
      "text/plain": [
       "array([False, False, False, False, False, False, False, False, False,\n",
       "       False, False, False, False, False, False])"
      ]
     },
     "execution_count": 16,
     "metadata": {},
     "output_type": "execute_result"
    }
   ],
   "source": [
    "np.all(finaldata>5,axis=0) #all valus of column is >5"
   ]
  },
  {
   "cell_type": "code",
   "execution_count": 17,
   "id": "64bc4295",
   "metadata": {},
   "outputs": [
    {
     "data": {
      "text/plain": [
       "array([[False, False, False, False,  True, False, False,  True, False,\n",
       "        False, False, False,  True, False, False],\n",
       "       [False, False, False,  True, False,  True, False,  True, False,\n",
       "         True,  True, False,  True, False, False],\n",
       "       [False, False,  True, False, False, False,  True, False,  True,\n",
       "        False, False, False, False, False, False]])"
      ]
     },
     "execution_count": 17,
     "metadata": {},
     "output_type": "execute_result"
    }
   ],
   "source": [
    "((finaldata>5) & (finaldata<8)) "
   ]
  },
  {
   "cell_type": "code",
   "execution_count": 18,
   "id": "8196469a",
   "metadata": {},
   "outputs": [
    {
     "data": {
      "text/plain": [
       "array([[ True,  True,  True,  True, False,  True,  True, False,  True,\n",
       "         True,  True,  True, False,  True,  True],\n",
       "       [ True,  True,  True, False,  True, False,  True, False,  True,\n",
       "        False, False,  True, False,  True,  True],\n",
       "       [ True,  True, False,  True,  True,  True, False,  True, False,\n",
       "         True,  True,  True,  True,  True,  True]])"
      ]
     },
     "execution_count": 18,
     "metadata": {},
     "output_type": "execute_result"
    }
   ],
   "source": [
    "~((finaldata>5) & (finaldata<8)) "
   ]
  },
  {
   "cell_type": "code",
   "execution_count": null,
   "id": "eca3902b",
   "metadata": {},
   "outputs": [],
   "source": []
  }
 ],
 "metadata": {
  "kernelspec": {
   "display_name": "Python 3",
   "language": "python",
   "name": "python3"
  },
  "language_info": {
   "codemirror_mode": {
    "name": "ipython",
    "version": 3
   },
   "file_extension": ".py",
   "mimetype": "text/x-python",
   "name": "python",
   "nbconvert_exporter": "python",
   "pygments_lexer": "ipython3",
   "version": "3.12.4"
  }
 },
 "nbformat": 4,
 "nbformat_minor": 5
}
