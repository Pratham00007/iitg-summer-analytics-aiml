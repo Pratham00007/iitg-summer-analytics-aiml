{
 "cells": [
  {
   "cell_type": "markdown",
   "id": "347262f1",
   "metadata": {},
   "source": [
    "Initialzing Different Types Of Arrays"
   ]
  },
  {
   "cell_type": "code",
   "execution_count": 425,
   "id": "c3e53e5a",
   "metadata": {},
   "outputs": [],
   "source": [
    "import numpy as np"
   ]
  },
  {
   "cell_type": "code",
   "execution_count": 426,
   "id": "b6605c4c",
   "metadata": {},
   "outputs": [
    {
     "name": "stdout",
     "output_type": "stream",
     "text": [
      "[0. 0. 0. 0. 0.]\n"
     ]
    }
   ],
   "source": [
    "# all zero\n",
    "a=np.zeros(5)\n",
    "print (a)\n"
   ]
  },
  {
   "cell_type": "code",
   "execution_count": 427,
   "id": "3215aa00",
   "metadata": {},
   "outputs": [
    {
     "data": {
      "text/plain": [
       "1"
      ]
     },
     "execution_count": 427,
     "metadata": {},
     "output_type": "execute_result"
    }
   ],
   "source": [
    "a.ndim"
   ]
  },
  {
   "cell_type": "code",
   "execution_count": 428,
   "id": "4c8840b6",
   "metadata": {},
   "outputs": [
    {
     "name": "stdout",
     "output_type": "stream",
     "text": [
      "[[0. 0. 0.]\n",
      " [0. 0. 0.]]\n"
     ]
    }
   ],
   "source": [
    "b=np.zeros((2,3))\n",
    "print(b)"
   ]
  },
  {
   "cell_type": "code",
   "execution_count": 429,
   "id": "1f79176a",
   "metadata": {},
   "outputs": [
    {
     "data": {
      "text/plain": [
       "2"
      ]
     },
     "execution_count": 429,
     "metadata": {},
     "output_type": "execute_result"
    }
   ],
   "source": [
    "b.ndim"
   ]
  },
  {
   "cell_type": "code",
   "execution_count": 430,
   "id": "0e1dbd59",
   "metadata": {},
   "outputs": [
    {
     "name": "stdout",
     "output_type": "stream",
     "text": [
      "[[[0. 0. 0.]\n",
      "  [0. 0. 0.]\n",
      "  [0. 0. 0.]]\n",
      "\n",
      " [[0. 0. 0.]\n",
      "  [0. 0. 0.]\n",
      "  [0. 0. 0.]]]\n"
     ]
    }
   ],
   "source": [
    "c=np.zeros((2,3,3))\n",
    "print(c)"
   ]
  },
  {
   "cell_type": "code",
   "execution_count": 431,
   "id": "fcf672cd",
   "metadata": {},
   "outputs": [
    {
     "data": {
      "text/plain": [
       "3"
      ]
     },
     "execution_count": 431,
     "metadata": {},
     "output_type": "execute_result"
    }
   ],
   "source": [
    "c.ndim"
   ]
  },
  {
   "cell_type": "code",
   "execution_count": 432,
   "id": "3fdcad3a",
   "metadata": {},
   "outputs": [
    {
     "name": "stdout",
     "output_type": "stream",
     "text": [
      "[[[[0. 0.]\n",
      "   [0. 0.]\n",
      "   [0. 0.]]\n",
      "\n",
      "  [[0. 0.]\n",
      "   [0. 0.]\n",
      "   [0. 0.]]\n",
      "\n",
      "  [[0. 0.]\n",
      "   [0. 0.]\n",
      "   [0. 0.]]]\n",
      "\n",
      "\n",
      " [[[0. 0.]\n",
      "   [0. 0.]\n",
      "   [0. 0.]]\n",
      "\n",
      "  [[0. 0.]\n",
      "   [0. 0.]\n",
      "   [0. 0.]]\n",
      "\n",
      "  [[0. 0.]\n",
      "   [0. 0.]\n",
      "   [0. 0.]]]]\n"
     ]
    }
   ],
   "source": [
    "d=np.zeros((2,3,3,2))\n",
    "print(d)"
   ]
  },
  {
   "cell_type": "code",
   "execution_count": 433,
   "id": "fdd2b295",
   "metadata": {},
   "outputs": [
    {
     "data": {
      "text/plain": [
       "4"
      ]
     },
     "execution_count": 433,
     "metadata": {},
     "output_type": "execute_result"
    }
   ],
   "source": [
    "d.ndim"
   ]
  },
  {
   "cell_type": "code",
   "execution_count": 434,
   "id": "f283feb4",
   "metadata": {},
   "outputs": [
    {
     "data": {
      "text/plain": [
       "array([[1., 1.],\n",
       "       [1., 1.]])"
      ]
     },
     "execution_count": 434,
     "metadata": {},
     "output_type": "execute_result"
    }
   ],
   "source": [
    "# All 1s matrix\n",
    "np.ones((2,2))"
   ]
  },
  {
   "cell_type": "code",
   "execution_count": 435,
   "id": "ab34bf2d",
   "metadata": {},
   "outputs": [
    {
     "data": {
      "text/plain": [
       "array([[1, 1],\n",
       "       [1, 1]])"
      ]
     },
     "execution_count": 435,
     "metadata": {},
     "output_type": "execute_result"
    }
   ],
   "source": [
    "# with dtype\n",
    "np.ones((2,2),dtype=\"int32\")"
   ]
  },
  {
   "cell_type": "code",
   "execution_count": 436,
   "id": "47fce2eb",
   "metadata": {},
   "outputs": [
    {
     "data": {
      "text/plain": [
       "array([[99, 99],\n",
       "       [99, 99]])"
      ]
     },
     "execution_count": 436,
     "metadata": {},
     "output_type": "execute_result"
    }
   ],
   "source": [
    "# Any onther number take (shape,number)\n",
    "np.full((2,2),99)"
   ]
  },
  {
   "cell_type": "code",
   "execution_count": 437,
   "id": "aaf7ce83",
   "metadata": {},
   "outputs": [
    {
     "name": "stdout",
     "output_type": "stream",
     "text": [
      "[[0. 0. 0.]\n",
      " [0. 0. 0.]]\n"
     ]
    }
   ],
   "source": [
    "e=np.zeros((2,3))\n",
    "print (e)"
   ]
  },
  {
   "cell_type": "code",
   "execution_count": 438,
   "id": "764eb47c",
   "metadata": {},
   "outputs": [
    {
     "data": {
      "text/plain": [
       "array([[4., 4., 4.],\n",
       "       [4., 4., 4.]])"
      ]
     },
     "execution_count": 438,
     "metadata": {},
     "output_type": "execute_result"
    }
   ],
   "source": [
    "np.full_like(e,4)"
   ]
  },
  {
   "cell_type": "code",
   "execution_count": 439,
   "id": "e827cf9d",
   "metadata": {},
   "outputs": [
    {
     "data": {
      "text/plain": [
       "array([[4, 4, 4],\n",
       "       [4, 4, 4]])"
      ]
     },
     "execution_count": 439,
     "metadata": {},
     "output_type": "execute_result"
    }
   ],
   "source": [
    "np.full(e.shape,4)"
   ]
  },
  {
   "cell_type": "markdown",
   "id": "9951a7e4",
   "metadata": {},
   "source": [
    "Random value"
   ]
  },
  {
   "cell_type": "code",
   "execution_count": 440,
   "id": "4758d2eb",
   "metadata": {},
   "outputs": [
    {
     "data": {
      "text/plain": [
       "array([[0.19632167, 0.98506057],\n",
       "       [0.24336569, 0.11749983],\n",
       "       [0.29872831, 0.2699007 ],\n",
       "       [0.38780072, 0.41260727]])"
      ]
     },
     "execution_count": 440,
     "metadata": {},
     "output_type": "execute_result"
    }
   ],
   "source": [
    "# random decimal value numbers \n",
    "# domt pass tuple\n",
    "np.random.rand(4,2) #4x2 matrix"
   ]
  },
  {
   "cell_type": "code",
   "execution_count": 441,
   "id": "9c80f965",
   "metadata": {},
   "outputs": [
    {
     "data": {
      "text/plain": [
       "array([[[0.83429703, 0.8279809 , 0.35427943],\n",
       "        [0.62786016, 0.89195302, 0.84030779]],\n",
       "\n",
       "       [[0.74867059, 0.39643215, 0.65026559],\n",
       "        [0.30980066, 0.16510335, 0.68515147]],\n",
       "\n",
       "       [[0.49197265, 0.55409049, 0.84743475],\n",
       "        [0.91045603, 0.06704864, 0.19929273]],\n",
       "\n",
       "       [[0.00778238, 0.74907497, 0.49222917],\n",
       "        [0.31967048, 0.28467462, 0.28867354]]])"
      ]
     },
     "execution_count": 441,
     "metadata": {},
     "output_type": "execute_result"
    }
   ],
   "source": [
    "np.random.rand(4,2,3)\n"
   ]
  },
  {
   "cell_type": "code",
   "execution_count": 442,
   "id": "a848d788",
   "metadata": {},
   "outputs": [
    {
     "data": {
      "text/plain": [
       "array([[0.33062537, 0.85057799, 0.07345986],\n",
       "       [0.70607522, 0.38231438, 0.87543741]])"
      ]
     },
     "execution_count": 442,
     "metadata": {},
     "output_type": "execute_result"
    }
   ],
   "source": [
    "np.random.random_sample(e.shape)"
   ]
  },
  {
   "cell_type": "code",
   "execution_count": 443,
   "id": "bbfd8532",
   "metadata": {},
   "outputs": [
    {
     "data": {
      "text/plain": [
       "0"
      ]
     },
     "execution_count": 443,
     "metadata": {},
     "output_type": "execute_result"
    }
   ],
   "source": [
    "# Random integer value\n",
    "np.random.randint(7) #take 0 as start by default and 7 exluded"
   ]
  },
  {
   "cell_type": "code",
   "execution_count": 444,
   "id": "f958173d",
   "metadata": {},
   "outputs": [
    {
     "data": {
      "text/plain": [
       "array([[4, 6, 3],\n",
       "       [5, 3, 4],\n",
       "       [6, 0, 1]])"
      ]
     },
     "execution_count": 444,
     "metadata": {},
     "output_type": "execute_result"
    }
   ],
   "source": [
    "np.random.randint(7,size=(3,3))"
   ]
  },
  {
   "cell_type": "code",
   "execution_count": 445,
   "id": "5e4ce885",
   "metadata": {},
   "outputs": [
    {
     "data": {
      "text/plain": [
       "array([[1., 0., 0., 0., 0.],\n",
       "       [0., 1., 0., 0., 0.],\n",
       "       [0., 0., 1., 0., 0.],\n",
       "       [0., 0., 0., 1., 0.],\n",
       "       [0., 0., 0., 0., 1.]])"
      ]
     },
     "execution_count": 445,
     "metadata": {},
     "output_type": "execute_result"
    }
   ],
   "source": [
    "# identity matrix\n",
    "np.identity(5)"
   ]
  },
  {
   "cell_type": "code",
   "execution_count": 446,
   "id": "15e1fa35",
   "metadata": {},
   "outputs": [
    {
     "name": "stdout",
     "output_type": "stream",
     "text": [
      "[[1 2 3]\n",
      " [1 2 3]\n",
      " [1 2 3]]\n"
     ]
    }
   ],
   "source": [
    "# repeat\n",
    "arr=np.array([[1,2,3]])\n",
    "r1=np.repeat(arr,3,axis=0) #repeat 3 times and vertically\n",
    "print(r1)"
   ]
  },
  {
   "cell_type": "markdown",
   "id": "72382ab6",
   "metadata": {},
   "source": [
    "1 1 1 1 1\n",
    "1 0 0 0 1\n",
    "1 0 9 0 1\n",
    "1 0 0 0 1\n",
    "1 1 1 1 1"
   ]
  },
  {
   "cell_type": "code",
   "execution_count": 447,
   "id": "e607b79f",
   "metadata": {},
   "outputs": [
    {
     "data": {
      "text/plain": [
       "array([[[[[1, 1, 1, 1, 1],\n",
       "          [1, 0, 0, 0, 1],\n",
       "          [1, 0, 9, 0, 1],\n",
       "          [1, 0, 0, 0, 1],\n",
       "          [1, 1, 1, 1, 1]]]]])"
      ]
     },
     "execution_count": 447,
     "metadata": {},
     "output_type": "execute_result"
    }
   ],
   "source": [
    "np.array([[[[[1,1,1,1,1],\n",
    "             [1,0,0,0,1],\n",
    "             [1,0,9,0,1],\n",
    "             [1,0,0,0,1],\n",
    "             [1,1,1,1,1]]]]])"
   ]
  },
  {
   "cell_type": "code",
   "execution_count": 448,
   "id": "4dbfdf93",
   "metadata": {},
   "outputs": [
    {
     "name": "stdout",
     "output_type": "stream",
     "text": [
      "[[1. 1. 1. 1. 1.]\n",
      " [1. 1. 1. 1. 1.]\n",
      " [1. 1. 1. 1. 1.]\n",
      " [1. 1. 1. 1. 1.]\n",
      " [1. 1. 1. 1. 1.]]\n"
     ]
    }
   ],
   "source": [
    "output=np.ones((5,5))\n",
    "print(output)"
   ]
  },
  {
   "cell_type": "code",
   "execution_count": 449,
   "id": "280d540b",
   "metadata": {},
   "outputs": [],
   "source": [
    "output[1:4,1:4]=np.full(output[1:4,1:4].shape,0)"
   ]
  },
  {
   "cell_type": "code",
   "execution_count": 450,
   "id": "237a2223",
   "metadata": {},
   "outputs": [
    {
     "name": "stdout",
     "output_type": "stream",
     "text": [
      "[[1. 1. 1. 1. 1.]\n",
      " [1. 0. 0. 0. 1.]\n",
      " [1. 0. 0. 0. 1.]\n",
      " [1. 0. 0. 0. 1.]\n",
      " [1. 1. 1. 1. 1.]]\n"
     ]
    }
   ],
   "source": [
    "print(output)"
   ]
  },
  {
   "cell_type": "code",
   "execution_count": 451,
   "id": "09714e47",
   "metadata": {},
   "outputs": [
    {
     "name": "stdout",
     "output_type": "stream",
     "text": [
      "[[1. 1. 1. 1. 1.]\n",
      " [1. 0. 0. 0. 1.]\n",
      " [1. 0. 9. 0. 1.]\n",
      " [1. 0. 0. 0. 1.]\n",
      " [1. 1. 1. 1. 1.]]\n"
     ]
    }
   ],
   "source": [
    "output[2,2]=9\n",
    "print(output)"
   ]
  },
  {
   "cell_type": "code",
   "execution_count": 452,
   "id": "ecf46b14",
   "metadata": {},
   "outputs": [
    {
     "name": "stdout",
     "output_type": "stream",
     "text": [
      "[[1. 1. 1. 1. 1.]\n",
      " [1. 1. 1. 1. 1.]\n",
      " [1. 1. 1. 1. 1.]\n",
      " [1. 1. 1. 1. 1.]\n",
      " [1. 1. 1. 1. 1.]]\n",
      "[[0. 0. 0.]\n",
      " [0. 9. 0.]\n",
      " [0. 0. 0.]]\n",
      "[[1. 1. 1. 1. 1.]\n",
      " [1. 0. 0. 0. 1.]\n",
      " [1. 0. 9. 0. 1.]\n",
      " [1. 0. 0. 0. 1.]\n",
      " [1. 1. 1. 1. 1.]]\n"
     ]
    }
   ],
   "source": [
    "# sir solution\n",
    "\n",
    "output=np.ones((5,5))\n",
    "print(output)\n",
    "\n",
    "z=np.zeros((3,3))\n",
    "z[1,1]=9\n",
    "print(z)\n",
    "\n",
    "\n",
    "output[1:4,1:4]=z\n",
    "print(output)"
   ]
  },
  {
   "cell_type": "markdown",
   "id": "dc1181a9",
   "metadata": {},
   "source": [
    "<h3>\n",
    "be <b>carefull</b> when copying array\n"
   ]
  },
  {
   "cell_type": "code",
   "execution_count": 453,
   "id": "e954df85",
   "metadata": {},
   "outputs": [
    {
     "name": "stdout",
     "output_type": "stream",
     "text": [
      "[100   2   3]\n"
     ]
    }
   ],
   "source": [
    "a=np.array([1,2,3])\n",
    "b=a\n",
    "b[0]=100\n",
    "print(a)"
   ]
  },
  {
   "cell_type": "markdown",
   "id": "3be1986e",
   "metadata": {},
   "source": [
    "its not copying in b its pointing variable to a location and haning in b reflect in a"
   ]
  },
  {
   "cell_type": "code",
   "execution_count": 454,
   "id": "8510a151",
   "metadata": {},
   "outputs": [
    {
     "name": "stdout",
     "output_type": "stream",
     "text": [
      "[1 2 3]\n",
      "[100   2   3]\n"
     ]
    }
   ],
   "source": [
    "# solution\n",
    "\n",
    "c=np.array([1,2,3])\n",
    "d=c.copy()\n",
    "d[0]=100\n",
    "print(c)\n",
    "print(d)"
   ]
  },
  {
   "cell_type": "code",
   "execution_count": null,
   "id": "7aeffb18",
   "metadata": {},
   "outputs": [],
   "source": []
  }
 ],
 "metadata": {
  "kernelspec": {
   "display_name": "Python 3",
   "language": "python",
   "name": "python3"
  },
  "language_info": {
   "codemirror_mode": {
    "name": "ipython",
    "version": 3
   },
   "file_extension": ".py",
   "mimetype": "text/x-python",
   "name": "python",
   "nbconvert_exporter": "python",
   "pygments_lexer": "ipython3",
   "version": "3.12.4"
  }
 },
 "nbformat": 4,
 "nbformat_minor": 5
}
